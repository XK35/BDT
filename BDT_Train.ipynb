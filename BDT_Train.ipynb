{
 "cells": [
  {
   "cell_type": "code",
   "execution_count": 3,
   "metadata": {},
   "outputs": [],
   "source": [
    "import numpy as np\n",
    "import tables, pylab, sys, operator,dashi, os\n",
    "import glob\n",
    "import matplotlib\n",
    "import matplotlib.pyplot as plt\n",
    "import pandas as pd\n",
    "from icecube import NewNuFlux, dataclasses,astro\n",
    "from xgboost import XGBClassifier, XGBRFClassifier\n",
    "from sklearn.ensemble import AdaBoostClassifier, RandomForestClassifier\n",
    "from sklearn.tree import DecisionTreeClassifier\n",
    "from sklearn.metrics import mean_squared_error as MSE\n",
    "from sklearn.metrics import accuracy_score\n",
    "from sklearn.model_selection import train_test_split, RandomizedSearchCV\n",
    "from sklearn.metrics import roc_curve,precision_recall_curve\n",
    "import lightgbm as lgb"
   ]
  },
  {
   "cell_type": "code",
   "execution_count": 2,
   "metadata": {},
   "outputs": [
    {
     "name": "stdout",
     "output_type": "stream",
     "text": [
      "156878\n",
      "39448\n"
     ]
    }
   ],
   "source": [
    "Data_postcut_2 = np.load('/data/user/xk35/BDT/2016/Precut_files/Data_post_cut_gamma_2.7_24days_train_cc.npy')\n",
    "MC_postcut_2 = np.load('/data/user/xk35/BDT/2016/Precut_files/MC_post_cut_gamma_2.7_3000_cc.npy')\n",
    "print(len(Data_postcut_2))\n",
    "print(len(MC_postcut_2))"
   ]
  },
  {
   "cell_type": "code",
   "execution_count": 4,
   "metadata": {},
   "outputs": [],
   "source": [
    "GC_ra , GC_dec = astro.gal_to_equa(0., 0.)\n",
    "maskgc = ((Data_postcut_2['spMPE_zenith']-np.radians(90.))>GC_dec-np.radians(10)) & ((Data_postcut_2['spMPE_zenith']-np.radians(90.))<GC_dec+np.radians(10))\n",
    "Data_gc = Data_postcut_2[maskgc]\n",
    "maskgc2 = ((MC_postcut_2['spMPE_zenith']-np.radians(90.))>GC_dec-np.radians(10)) & ((MC_postcut_2['spMPE_zenith']-np.radians(90.))<GC_dec+np.radians(10))\n",
    "MC_gc = MC_postcut_2[maskgc2]"
   ]
  },
  {
   "cell_type": "code",
   "execution_count": 5,
   "metadata": {},
   "outputs": [],
   "source": [
    "# 2d array for features\n",
    "\n",
    "def  Feat(MC , Data ):\n",
    "    Features = np.zeros((len(MC) + len(Data),15))\n",
    "\n",
    "    Features.T[0][:] = np.concatenate((MC['spMPE_ndirE'],Data['spMPE_ndirE']))\n",
    "    Features.T[1][:] = np.concatenate((MC['spMPE_rlogl'],Data['spMPE_rlogl']))\n",
    "    Features.T[2][:] = np.concatenate((MC['spMPE_parabo'],Data['spMPE_parabo']))\n",
    "    Features.T[3][:] = np.concatenate((MC['MPEHighNoise_delta_angle'],Data['MPEHighNoise_delta_angle']))\n",
    "    Features.T[4][:] = np.concatenate((MC['logE'],Data['logE']))\n",
    "    Features.T[5][:] = np.concatenate((MC['BayesLLHRatio'],Data['BayesLLHRatio']))\n",
    "    Features.T[6][:] = np.concatenate((MC['cog_r2'],Data['cog_r2']))\n",
    "    Features.T[7][:] = np.concatenate((MC['cog_z'],Data['cog_z']))\n",
    "    Features.T[8][:] = np.concatenate((MC['spMPE_ldirE'],Data['spMPE_ldirE']))\n",
    "    Features.T[9][:] = np.concatenate((MC['LineFit_delta_angle'],Data['LineFit_delta_angle']))\n",
    "    Features.T[10][:] = np.concatenate((MC['NEarlyNCh'],Data['NEarlyNCh']))\n",
    "    Features.T[11][:] = np.concatenate((MC['logMuEx'],Data['logMuEx']))\n",
    "    Features.T[12][:] = np.concatenate((MC['MuExrllt'],Data['MuExrllt']))\n",
    "\n",
    "\n",
    "\n",
    "    #this feature is to track MC weights after train test split\n",
    "    Features.T[13][:] = np.concatenate((MC['weights'], 10*np.ones(len(Data))))\n",
    "    #track zenith of events\n",
    "    Features.T[14][:] = np.concatenate((MC['spMPE_zenith'],Data['spMPE_zenith']))\n",
    "    \n",
    "    Event_Type = np.concatenate((np.ones(len(MC)), np.zeros(len(Data))))\n",
    "    \n",
    "    return Features, Event_Type"
   ]
  },
  {
   "cell_type": "code",
   "execution_count": 6,
   "metadata": {},
   "outputs": [],
   "source": [
    "def Feat_weight_zen(X_train, X_test):\n",
    "    # pull out mc weights from train and test datasets\n",
    "    X_train_weights = X_train.T[13]\n",
    "    mask_mc = (X_train_weights != 10)\n",
    "    X_train_weights = X_train_weights[mask_mc]\n",
    "\n",
    "    X_train_zenith = X_train.T[14]\n",
    "    X_train_MC_zenith = X_train_zenith[mask_mc]\n",
    "    \n",
    "    X_test_weights = X_test.T[13]\n",
    "    mask_mc = (X_test_weights != 10)\n",
    "    X_test_weights = X_test_weights[mask_mc]\n",
    "    \n",
    "    X_test_zenith = X_test.T[14]\n",
    "    X_test_MC_zenith = X_test_zenith[mask_mc]\n",
    "    \n",
    "    return X_train_weights, X_test_weights, X_train_MC_zenith, X_test_MC_zenith, mask_mc\n",
    "\n",
    "def prep_train_Feat(Features, X_train, X_test):\n",
    "    \n",
    "\n",
    "    \n",
    "    #get rid of weights and zenith before training\n",
    "    Features = np.delete(Features, [-1,-2], axis = 1)\n",
    "    X_train = np.delete(X_train, [-1,-2], axis = 1)\n",
    "    X_test = np.delete(X_test, [-1,-2], axis = 1)\n",
    "\n",
    "    return Features, X_train, X_test"
   ]
  },
  {
   "cell_type": "code",
   "execution_count": 7,
   "metadata": {},
   "outputs": [],
   "source": [
    "#Features, Event_Type = Feat(MC_postcut_2, Data_postcut_2)\n",
    "Features, Event_Type = Feat(MC_gc, Data_gc)\n",
    "\n",
    "#train test split\n",
    "X_train, X_test, y_train, y_test = train_test_split(Features, Event_Type, test_size = 0.5, random_state = 1)\n",
    "\n",
    "#np.save('BDT_Features.npy', Features)"
   ]
  },
  {
   "cell_type": "code",
   "execution_count": 9,
   "metadata": {},
   "outputs": [],
   "source": [
    "#make test data something else\n",
    "set_test = False\n",
    "\n",
    "if set_test == True:\n",
    "    Data_test = np.load('Data0301_post_cut_gamma_2.7.npy')\n",
    "    \n",
    "    MC_test = MC_postcut_2[:len(Data_test)]\n",
    "    Features_0601, Event_Type = Feat(MC_postcut_2, Data_test)\n",
    "    _, X_test, _, y_test = train_test_split(Features_0601, Event_Type, test_size = 0.99, random_state = 1)\n",
    "    \n",
    "    \n",
    "#process feature\n",
    "X_train_weights, X_test_weights, X_train_MC_zenith, X_test_MC_zenith, mask_mc = Feat_weight_zen(X_train, X_test)\n",
    "    \n",
    "Features, X_train, X_test = prep_train_Feat(Features, X_train, X_test)"
   ]
  },
  {
   "cell_type": "code",
   "execution_count": 10,
   "metadata": {},
   "outputs": [],
   "source": [
    "df = pd.DataFrame(data=Features, columns=['spMPE_ndirE', 'spMPE_rlogl', 'spMPE_parabo',\n",
    "                                         'MPEHighNoise_delta_angle', 'logE', \n",
    "                                          'BayesLLHRatio', \n",
    "                                         'cog_r2','cog_z','spMPE_ldirE','LineFit_delta_angle', 'NEarlyNCh' \n",
    "                                         ,'logMuEx', 'MuExrllt'\n",
    "                                         ])\n",
    "\n",
    "#early stop to check if over training by checking if test score starts to go down\n"
   ]
  },
  {
   "cell_type": "code",
   "execution_count": 11,
   "metadata": {},
   "outputs": [
    {
     "name": "stdout",
     "output_type": "stream",
     "text": [
      "DecisionTreeClassifier\n",
      "XGBClassifier\n"
     ]
    },
    {
     "name": "stderr",
     "output_type": "stream",
     "text": [
      "/home/xk35/.local/lib/python3.7/site-packages/xgboost/sklearn.py:888: UserWarning: The use of label encoder in XGBClassifier is deprecated and will be removed in a future release. To remove this warning, do the following: 1) Pass option use_label_encoder=False when constructing XGBClassifier object; and 2) Encode your labels (y) as integers starting with 0, i.e. 0, 1, 2, ..., [num_class - 1].\n",
      "  warnings.warn(label_encoder_deprecation_msg, UserWarning)\n"
     ]
    },
    {
     "name": "stdout",
     "output_type": "stream",
     "text": [
      "[11:33:29] WARNING: ../src/learner.cc:1061: Starting in XGBoost 1.3.0, the default evaluation metric used with the objective 'binary:logistic' was changed from 'error' to 'logloss'. Explicitly set eval_metric if you'd like to restore the old behavior.\n",
      "XGBRFClassifier\n",
      "[11:34:22] WARNING: ../src/learner.cc:1061: Starting in XGBoost 1.3.0, the default evaluation metric used with the objective 'binary:logistic' was changed from 'error' to 'logloss'. Explicitly set eval_metric if you'd like to restore the old behavior.\n",
      "LGBMClassifier\n"
     ]
    },
    {
     "data": {
      "image/png": "[encoded data removed]",
      "text/plain": [
       "<Figure size 720x360 with 2 Axes>"
      ]
     },
     "metadata": {
      "needs_background": "light"
     },
     "output_type": "display_data"
    }
   ],
   "source": [
    "def compute_models(*args):\n",
    "    names = []\n",
    "    probs = []\n",
    "    for classifier, kwargs in args:\n",
    "        print(classifier.__name__)\n",
    "        clf = classifier(**kwargs)\n",
    "        clf.fit(X_train, y_train)\n",
    "        \n",
    "        #Note that we are outputing the probabilities [of class 1], not the classes\n",
    "        y_probs = clf.predict_proba(X_test)[:, 1]\n",
    "\n",
    "        names.append(classifier.__name__)\n",
    "        probs.append(y_probs)\n",
    "\n",
    "    return names, probs\n",
    "\n",
    "dt = RandomForestClassifier(max_depth = 3, ccp_alpha=30, max_samples=1, min_samples_split=20)\n",
    "LGBMClassifier = lgb.LGBMClassifier\n",
    "\n",
    "names, probs = compute_models((DecisionTreeClassifier,dict(max_depth=12,criterion='entropy')),\n",
    "                              #(AdaBoostClassifier, dict(base_estimator = dt, n_estimators = 150)),\n",
    "                              (XGBClassifier, dict(n_estimators = 150,eta=0.1, max_depth=6)),\n",
    "                              (XGBRFClassifier, dict(n_estimators = 150, learning_rate = 0.1, max_depth=6,\n",
    "                                                       subsample=0.8, colsample_bynode=0.277)),\n",
    "                              (LGBMClassifier, dict(num_leaves=10, learning_rate = 0.5, n_estimators = 150))\n",
    "                              \n",
    "                             )\n",
    "\n",
    "#------------------------------------------------------------\n",
    "# Plot ROC curves and completeness/efficiency\n",
    "fig = plt.figure(figsize=(10, 5))\n",
    "fig.subplots_adjust(left=0.1, right=0.95, bottom=0.15, top=0.9, wspace=0.25)\n",
    "\n",
    "# ax1 will show roc curves\n",
    "ax1 = plt.subplot(121)\n",
    "\n",
    "# ax2 will show precision/recall\n",
    "ax2 = plt.subplot(122)\n",
    "\n",
    "# ax3 will show completeness/efficiency\n",
    "#ax3 = plt.subplot(133)\n",
    "\n",
    "labels = dict(DecisionTreeClassifier='DT',\n",
    "              #AdaBoostClassifier='AdaBoost',\n",
    "              XGBClassifier='XGBoost',\n",
    "              XGBRFClassifier='XGBRFoost',\n",
    "              LGBMClassifier = 'LGBM')\n",
    "\n",
    "thresholds = np.linspace(0, 1, 1001)[:-1]\n",
    "\n",
    "# iterate through and show results\n",
    "for name, y_prob in zip(names, probs):\n",
    "    fpr, tpr, thresh = roc_curve(y_test, y_prob)\n",
    "    precision, recall, thresh2 = precision_recall_curve(y_test, y_prob)\n",
    "\n",
    "    # add (0, 0) as first point\n",
    "    fpr = np.concatenate([[0], fpr])\n",
    "    tpr = np.concatenate([[0], tpr])\n",
    "    # Here we add (1,0) \n",
    "    precision = np.concatenate([[0], precision])\n",
    "    recall = np.concatenate([[1], recall])\n",
    "    thresh2 = np.concatenate([[0], thresh2])\n",
    "\n",
    "    ax1.plot(fpr, tpr, label=labels[name])\n",
    "\n",
    "    #See note above about astroML vs. sklearn\n",
    "    #Note that the range of threshhold values here is 0% to 100% (0.0 to 1.0)\n",
    "    comp = np.zeros_like(thresholds)\n",
    "    cont = np.zeros_like(thresholds)\n",
    "    #for i, t in enumerate(thresholds):\n",
    "        #y_pred = (y_prob >= t)\n",
    "       # comp[i], cont[i] = completeness_contamination(y_pred, y_test)\n",
    "    #ax2.plot(1 - cont, comp, label=labels[name])\n",
    "    \n",
    "    ax2.plot(precision, recall, label=labels[name])\n",
    "\n",
    "ax1.set_xlim(0, 1)\n",
    "ax1.set_ylim(0, 1.02)\n",
    "ax1.xaxis.set_major_locator(plt.MaxNLocator(5))\n",
    "ax1.set_xlabel('false positive rate')\n",
    "ax1.set_ylabel('true positive rate')\n",
    "ax1.legend(loc=4)\n",
    "\n",
    "#ax2.set_xlabel('efficiency')\n",
    "#ax2.set_ylabel('completeness')\n",
    "#ax2.set_xlim(0, 1.0)\n",
    "#ax2.set_ylim(0.2, 1.02)\n",
    "\n",
    "ax2.set_xlabel('efficiency')\n",
    "ax2.set_ylabel('completeness')\n",
    "#ax2.set_xlim(0.6, 1.0)\n",
    "#ax2.set_ylim(0.6, 1.02)\n",
    "ax2.legend(loc=3)\n",
    "\n",
    "plt.show()"
   ]
  },
  {
   "cell_type": "code",
   "execution_count": 12,
   "metadata": {},
   "outputs": [
    {
     "name": "stdout",
     "output_type": "stream",
     "text": [
      "XGBClassifier\n"
     ]
    },
    {
     "name": "stderr",
     "output_type": "stream",
     "text": [
      "/home/xk35/.local/lib/python3.7/site-packages/xgboost/sklearn.py:888: UserWarning: The use of label encoder in XGBClassifier is deprecated and will be removed in a future release. To remove this warning, do the following: 1) Pass option use_label_encoder=False when constructing XGBClassifier object; and 2) Encode your labels (y) as integers starting with 0, i.e. 0, 1, 2, ..., [num_class - 1].\n",
      "  warnings.warn(label_encoder_deprecation_msg, UserWarning)\n"
     ]
    },
    {
     "name": "stdout",
     "output_type": "stream",
     "text": [
      "[11:34:54] WARNING: ../src/learner.cc:1061: Starting in XGBoost 1.3.0, the default evaluation metric used with the objective 'binary:logistic' was changed from 'error' to 'logloss'. Explicitly set eval_metric if you'd like to restore the old behavior.\n"
     ]
    }
   ],
   "source": [
    "name_cutcurve, prob_cutcurve = compute_models(\n",
    "    (XGBClassifier, dict(n_estimators = 700,eta=0.1, max_depth=12))\n",
    "    #(XGBRFClassifier, dict(n_estimators = 700, learning_rate = 0.1, subsample=0.8, \n",
    "     #                      colsample_bynode=0.277, max_depth=12))                                 \n",
    "\n",
    "                              #lighhtgbm gradientboost\n",
    "        #(DecisionTreeClassifier,dict(max_depth=12,criterion='entropy'))\n",
    "                             )\n",
    "\n",
    "MC_score = prob_cutcurve[0][y_test == 1]\n",
    "\n",
    "Data_score = prob_cutcurve[0][y_test == 0]"
   ]
  },
  {
   "cell_type": "code",
   "execution_count": 14,
   "metadata": {},
   "outputs": [
    {
     "data": {
      "text/plain": [
       "Text(0, 0.5, 'Background Efficiency')"
      ]
     },
     "execution_count": 14,
     "metadata": {},
     "output_type": "execute_result"
    },
    {
     "data": {
      "image/png": "[encoded data removed]",
      "text/plain": [
       "<Figure size 432x288 with 1 Axes>"
      ]
     },
     "metadata": {
      "needs_background": "light"
     },
     "output_type": "display_data"
    }
   ],
   "source": [
    "#plot efficiency\n",
    "score_mins = np.r_[np.linspace(0, .9, 200), 1 - np.logspace(-5, -1,100)[::-1]]                \n",
    "sig_eff = [X_test_weights[MC_score > score_min].sum()/X_test_weights.sum() for score_min in score_mins]                                                                                             \n",
    "                                                                                                      \n",
    "data_eff = [(Data_score[Data_score > score_min]).sum()/Data_score.sum() for score_min in score_mins]                                                                                                \n",
    "                                                                                                      \n",
    "plt.plot(sig_eff, data_eff)\n",
    "plt.yscale('log')\n",
    "plt.ylim(10**-4, 1)\n",
    "plt.xlabel('Signal Efficiency')\n",
    "plt.ylabel('Background Efficiency')"
   ]
  },
  {
   "cell_type": "code",
   "execution_count": null,
   "metadata": {},
   "outputs": [],
   "source": []
  },
  {
   "cell_type": "code",
   "execution_count": null,
   "metadata": {},
   "outputs": [],
   "source": []
  },
  {
   "cell_type": "code",
   "execution_count": null,
   "metadata": {},
   "outputs": [],
   "source": []
  }
 ],
 "metadata": {
  "kernelspec": {
   "display_name": "Python 3",
   "language": "python",
   "name": "python3"
  },
  "language_info": {
   "codemirror_mode": {
    "name": "ipython",
    "version": 3
   },
   "file_extension": ".py",
   "mimetype": "text/x-python",
   "name": "python",
   "nbconvert_exporter": "python",
   "pygments_lexer": "ipython3",
   "version": "3.7.5"
  }
 },
 "nbformat": 4,
 "nbformat_minor": 2
}
