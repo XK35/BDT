{
 "cells": [
  {
   "cell_type": "code",
   "execution_count": 1,
   "metadata": {},
   "outputs": [
    {
     "ename": "RuntimeError",
     "evalue": "FATAL: module compiled as little endian, but detected different endianness at runtime",
     "output_type": "error",
     "traceback": [
      "\u001b[0;31m---------------------------------------------------------------------------\u001b[0m",
      "\u001b[0;31mRuntimeError\u001b[0m                              Traceback (most recent call last)",
      "\u001b[0;31mRuntimeError\u001b[0m: FATAL: module compiled as little endian, but detected different endianness at runtime"
     ]
    }
   ],
   "source": [
    "import numpy as np\n",
    "import tables\n",
    "from icecube import dataio\n",
    "import glob\n",
    "from icecube import icetray, dataio, dataclasses,simclasses,recclasses, gulliver, finiteReco, paraboloid\n",
    "from I3Tray import *\n",
    "from icecube.hdfwriter import I3SimHDFWriter\n",
    "from icecube import millipede, linefit\n",
    "from icecube.hdfwriter import I3HDFWriter\n",
    "from icecube import astro\n",
    "from icecube import NewNuFlux\n",
    "import time\n",
    "import operator\n",
    "import matplotlib.pyplot as plt"
   ]
  },
  {
   "cell_type": "code",
   "execution_count": 2,
   "metadata": {},
   "outputs": [],
   "source": [
    "MC_file = tables.open_file('/data/user/xk35/BDT/merged_hdf/MC/3000file/mc_3000.hdf')\n",
    "Data_test_file = tables.open_file('/data/user/xk35/BDT/merged_hdf/Data/test_file/data_test_24days.hdf')\n",
    "Data_train_file = tables.open_file('/data/user/xk35/BDT/merged_hdf/Data/train_file/data_24days.hdf')\n",
    "\n",
    "MC_CC = np.load('/data/user/xk35/BDT/Corner_Clipper/Charge_Ratio/MC/prob_cc.npy')\n",
    "Data_train_CC = np.load('/data/user/xk35/BDT/Corner_Clipper/Charge_Ratio/Data/prob_cc_data_train.npy')\n",
    "Data_test_CC = np.load('/data/user/xk35/BDT/Corner_Clipper/Charge_Ratio/Data_test/prob_cc_data_test.npy')"
   ]
  },
  {
   "cell_type": "code",
   "execution_count": null,
   "metadata": {},
   "outputs": [],
   "source": []
  },
  {
   "cell_type": "code",
   "execution_count": 3,
   "metadata": {},
   "outputs": [],
   "source": [
    "a = time.time()\n",
    "gamma = 2.7\n",
    "# save MC and Data\n",
    "#livetime = good_run_list.sum()[0]\n",
    "#livetime = good_run_list.sum()[0]\n",
    "\n",
    "def delta_angle(pt1_zen, pt1_azi=None, pt2_zen=None, pt2_azi=None):\n",
    "\n",
    "\n",
    "    z1=np.array(pt1_zen)\n",
    "    z2=np.array(pt2_zen)\n",
    "    a1=np.array(pt1_azi)\n",
    "    a2=np.array(pt2_azi)\n",
    "    pi = np.pi\n",
    "    # haversine!\n",
    "    cos_alpha = np.cos(z1-z2) - np.cos(pi/2.0 - z1)*np.cos(pi/2.0 - z2)*(1-np.cos(a1-a2))\n",
    "    alpha=180/pi*np.arccos(cos_alpha)\n",
    "    alpha[np.isnan(alpha)]=180\n",
    "    return alpha\n",
    "\n",
    "def SplitMinZenithFunc(zen1,zen2,zen3,zen4):\n",
    "        zen1[(zen1<0)|(zen1!=zen1)]=400\n",
    "        zen2[(zen2<0)|(zen2!=zen2)]=400\n",
    "        zen3[(zen3<0)|(zen3!=zen3)]=400\n",
    "        zen4[(zen4<0)|(zen4!=zen4)]=400\n",
    "        return np.degrees(np.min(np.transpose((zen1,zen2,zen3,zen4)),axis=1))\n",
    "\n",
    "BayesianFunc = lambda blogl,logl: np.nan_to_num(blogl - logl)\n"
   ]
  },
  {
   "cell_type": "markdown",
   "metadata": {},
   "source": [
    "# Precuts"
   ]
  },
  {
   "cell_type": "code",
   "execution_count": 4,
   "metadata": {},
   "outputs": [],
   "source": [
    "def GetCutIndices(file,CC_file,Cuts):\n",
    "        MyIndices={}\n",
    "        Indices=np.ones(len(file.root.SplineMPE),dtype=bool)\n",
    "        for item in Cuts:\n",
    "                \n",
    "                if item[0]=='MPEFitParaboloidFitParams':\n",
    "                        var=np.sqrt(file.root._f_get_child(item[0]).read()[item[1]]**2+file.root._f_get_child(item[0]).read()[item[2]]**2)/np.sqrt(2)\n",
    "                        Indices=(Indices)&(item[3](var,item[4]))\n",
    "                elif item[1]=='delta_angle':\n",
    "                        tracks=item[0].split(',')\n",
    "                        DA=delta_angle(file.root._f_get_child(tracks[0]).read()['zenith'],file.root._f_get_child(tracks[0]).read()['azimuth'],file.root._f_get_child(tracks[1]).read()['zenith'],file.root._f_get_child(tracks[1]).read()['azimuth'])\n",
    "                        Indices=(Indices)&(item[2](DA,item[3]))\n",
    "                elif item[0]=='CornerClipper':\n",
    "                        Indices=(Indices)&(item[1](CC_file,item[2]))\n",
    "                    \n",
    "                else:\n",
    "                        Indices=(Indices)&(item[2](file.root._f_get_child(item[0]).read()[item[1]],item[3]))\n",
    "                        \n",
    "                print(Indices.sum())\n",
    "        MyIndices=Indices\n",
    "        return MyIndices"
   ]
  },
  {
   "cell_type": "code",
   "execution_count": 5,
   "metadata": {},
   "outputs": [],
   "source": [
    "GC_ra , GC_dec = astro.gal_to_equa(0., 0.)\n",
    "zen_min = GC_dec-np.radians(10)+np.radians(90.)\n",
    "zen_max = GC_dec+np.radians(10)+np.radians(90.)\n",
    "\n",
    "Precuts=[]\n",
    "#Precuts+=[('SplineMPE','zenith',operator.gt,zen_min)]\n",
    "#Precuts+=[('SplineMPE','zenith',operator.le,zen_max)]\n",
    "Precuts+=[('SplineMPE','fit_status',operator.eq,0)]\n",
    "Precuts+=[('SplineMPEFitParams','rlogl',operator.lt,9)]\n",
    "Precuts+=[('SplineMPEDirectHitsE','dir_track_length',operator.gt,250)]\n",
    "Precuts+=[('MPEFitParaboloidFitParams','err1','err2',operator.lt,np.radians(4.5))]\n",
    "Precuts+=[('SplineMPE_MillipedeHighEnergyMIEFitParams','exists',operator.eq,1)]\n",
    "Precuts+=[('CornerClipper', operator.eq,0)]"
   ]
  },
  {
   "cell_type": "code",
   "execution_count": 6,
   "metadata": {},
   "outputs": [
    {
     "data": {
      "text/plain": [
       "124375"
      ]
     },
     "execution_count": 6,
     "metadata": {},
     "output_type": "execute_result"
    }
   ],
   "source": [
    "\n",
    "a = MC_file.root.SplineMPE.cols.zenith[:]\n",
    "GC_ra , GC_dec = astro.gal_to_equa(0., 0.)\n",
    "mask1 = ((a-np.radians(90.))>GC_dec-np.radians(10)) & ((a-np.radians(90.))<GC_dec+np.radians(10))\n",
    "len(a[mask1])"
   ]
  },
  {
   "cell_type": "code",
   "execution_count": 7,
   "metadata": {},
   "outputs": [
    {
     "name": "stdout",
     "output_type": "stream",
     "text": [
      "MC\n",
      "9031302\n",
      "7556367\n",
      "5640743\n",
      "5174903\n",
      "5174525\n",
      "4689749\n",
      "Data test\n",
      "5795509\n",
      "4461087\n",
      "3145145\n",
      "2953278\n",
      "2953205\n",
      "2630944\n",
      "Data train\n",
      "5682865\n",
      "4372862\n",
      "3079746\n",
      "2891875\n",
      "2891809\n",
      "2609516\n"
     ]
    }
   ],
   "source": [
    "print('MC')\n",
    "MC_cut_indices = GetCutIndices(MC_file,MC_CC,Precuts)\n",
    "print('Data test')\n",
    "Data_test_cut_indices = GetCutIndices(Data_test_file,Data_test_CC,Precuts)\n",
    "print('Data train')\n",
    "Data_train_cut_indices = GetCutIndices(Data_train_file,Data_train_CC,Precuts)"
   ]
  },
  {
   "cell_type": "markdown",
   "metadata": {},
   "source": [
    "# Get Variables"
   ]
  },
  {
   "cell_type": "code",
   "execution_count": 8,
   "metadata": {},
   "outputs": [],
   "source": [
    "dtype = [('run', int), \n",
    "         ('event', int), \n",
    "         ('subevent', int),\n",
    "        ('logE', float), \n",
    "        ('spMPE', float), \n",
    "         ('spMPE_rlogl', float), \n",
    "         ('spMPE_ldirE', float), \n",
    "         ('spMPE_ndirE', float),\n",
    "        ('spMPE_nearlyE',float),\n",
    "          ('millipede', float),  \n",
    "         ('SPEFit2BayesianFitParams_logl', float),\n",
    "         ('SPEFit2_TWHVFitParams_logl', float),\n",
    "         ('LineFit_TWHV_azi', float),\n",
    "         ('LineFit_TWHV_zen', float),\n",
    "         ('MPEFitHighNoise_azi', float),\n",
    "         ('MPEFitHighNoise_zen', float),\n",
    "         ('MPEFit_TWHV_azi', float),\n",
    "         ('MPEFit_TWHV_zen', float),\n",
    "         ('cog_z', float),\n",
    "         ('LineFit2GeoSplit1_zen', float),\n",
    "         ('LineFit2GeoSplit2_zen', float),\n",
    "         ('LineFit2TimeSplit1_zen', float),\n",
    "         ('LineFit2TimeSplit2_zen', float),\n",
    "         ('spMPE_azimuth', float), \n",
    "         ('spMPE_zenith', float), \n",
    "         ('MuExrllt',float), \n",
    "         ('time', float), ('trueRa', float), ('trueDec', float),('spMPE_parabo', float),\n",
    "         ('cog_r2', float),('space_angle', float),('LineFit_delta_angle', float),\n",
    "         ('MPEHighNoise_delta_angle', float),('SplitMinZenith', float),('BayesLLHRatio', float),\n",
    "         ('ow', float), ('trueE',float),('trueAzi', float), ('trueZen', float),('weights',float),('NEarlyNCh', float),\n",
    "         ('mc_azimuth', float), \n",
    "         ('mc_zenith', float),\n",
    "         \n",
    "         \n",
    "        ]\n"
   ]
  },
  {
   "cell_type": "code",
   "execution_count": 9,
   "metadata": {},
   "outputs": [],
   "source": [
    "Variables=[]\n",
    "Variables+=[('run','I3EventHeader','Run')]\n",
    "Variables+=[('event','I3EventHeader','Event')]\n",
    "Variables+=[('subevent','I3EventHeader','SubEvent')]\n",
    "Variables+=[('logE','SplineMPEMuEXDifferential','energy')]\n",
    "Variables+=[('spMPE','SplineMPE','fit_status')]\n",
    "Variables+=[('spMPE_rlogl','SplineMPEFitParams','rlogl')]\n",
    "Variables+=[('spMPE_ldirE','SplineMPEDirectHitsE','dir_track_length')]\n",
    "Variables+=[('spMPE_ndirE','SplineMPEDirectHitsE','n_dir_pulses')]\n",
    "Variables+=[('spMPE_nearlyE','SplineMPEDirectHitsE','n_early_pulses')]\n",
    "Variables+=[('millipede', 'SplineMPE_MillipedeHighEnergyMIEFitParams', 'exists')] \n",
    "Variables+=[('SPEFit2BayesianFitParams_logl', 'SPEFit2BayesianFitParams','logl')]\n",
    "Variables+=[('SPEFit2_TWHVFitParams_logl', 'SPEFit2_TWHVFitParams','logl')]\n",
    "Variables+=[('LineFit_TWHV_azi','LineFit_TWHV','azimuth')]\n",
    "Variables+=[('LineFit_TWHV_zen', 'LineFit_TWHV','zenith')]\n",
    "Variables+=[('MPEFitHighNoise_azi', 'MPEFitHighNoise','azimuth')]\n",
    "Variables+=[('MPEFitHighNoise_zen', 'MPEFitHighNoise','zenith')]\n",
    "Variables+=[('MPEFit_TWHV_azi','MPEFit_TWHV','azimuth')]\n",
    "Variables+=[('MPEFit_TWHV_zen','MPEFit_TWHV','zenith')]\n",
    "Variables+=[('cog_z', 'HitStatisticsValues','cog_z')]\n",
    "Variables+=[('LineFit2GeoSplit1_zen', 'LineFitGeoSplit1','zenith')]\n",
    "Variables+=[('LineFit2GeoSplit2_zen', 'LineFitGeoSplit2','zenith')]\n",
    "Variables+=[('LineFit2TimeSplit1_zen', 'LineFitTimeSplit1','zenith')]\n",
    "Variables+=[('LineFit2TimeSplit2_zen', 'LineFitTimeSplit2','zenith')]\n",
    "Variables+=[('spMPE_azimuth','SplineMPE','azimuth')]\n",
    "Variables+=[('spMPE_zenith', 'SplineMPE','zenith')]\n",
    "Variables+=[('MuExrllt','MuEXAngular4_rllt','value')]\n",
    "\n"
   ]
  },
  {
   "cell_type": "code",
   "execution_count": 10,
   "metadata": {},
   "outputs": [],
   "source": [
    "def get_variables(file, Variables,Indicies):\n",
    "        Array = np.zeros(Indicies.sum(), dtype=dtype)\n",
    "        for var in Variables:\n",
    "               Array[var[0]]=file.root._f_get_child(var[1]).read()[var[2]][Indicies]\n",
    "                \n",
    "        return Array"
   ]
  },
  {
   "cell_type": "code",
   "execution_count": 11,
   "metadata": {},
   "outputs": [],
   "source": [
    "Data_train = get_variables(Data_train_file, Variables,Data_train_cut_indices)\n",
    "Data_test = get_variables(Data_test_file, Variables,Data_test_cut_indices )"
   ]
  },
  {
   "cell_type": "code",
   "execution_count": 12,
   "metadata": {},
   "outputs": [],
   "source": [
    "def complete_data(Data, Data_file, Data_cut):\n",
    "    mjd_sec = Data_file.root.I3EventHeader.cols.time_start_mjd_sec[:][Data_cut]\n",
    "    mjd_ns = Data_file.root.I3EventHeader.cols.time_start_mjd_ns[:][Data_cut]\n",
    "    mjd_day = ( mjd_sec + mjd_ns*1E-9 )/ 86400.0 + Data_file.root.I3EventHeader.cols.time_start_mjd_day[:][Data_cut]\n",
    "    Data['time'] = mjd_day\n",
    "    \n",
    "    exp_spMPE_parabo_err1 = Data_file.root.MPEFitParaboloidFitParams.cols.err1[:][Data_cut]\n",
    "    exp_spMPE_parabo_err2 = Data_file.root.MPEFitParaboloidFitParams.cols.err2[:][Data_cut]\n",
    "    Data['spMPE_parabo']=np.sqrt((exp_spMPE_parabo_err1**2+exp_spMPE_parabo_err2**2)/2)\n",
    "    Data['cog_r2'] = (Data_file.root.HitStatisticsValues.cols.cog_x[:][Data_cut])**2 + (Data_file.root.HitStatisticsValues.cols.cog_y[:][Data_cut])**2\n",
    "    \n",
    "    Data['LineFit_delta_angle'] = delta_angle(Data['spMPE_zenith'],Data['spMPE_azimuth'],\n",
    "                                              Data['LineFit_TWHV_zen'],Data['LineFit_TWHV_azi'])\n",
    "\n",
    "    Data['MPEHighNoise_delta_angle'] = delta_angle(Data['MPEFitHighNoise_zen'],Data['MPEFitHighNoise_azi'],\n",
    "                                                 Data['MPEFit_TWHV_zen'],Data['MPEFit_TWHV_azi'])\n",
    "    Data['SplitMinZenith'] = SplitMinZenithFunc(Data['LineFit2GeoSplit1_zen'],Data['LineFit2GeoSplit2_zen'],\n",
    "                                               Data['LineFit2TimeSplit1_zen'],Data['LineFit2TimeSplit2_zen'])\n",
    "    Data['BayesLLHRatio'] = BayesianFunc(Data['SPEFit2BayesianFitParams_logl'], \n",
    "                                         Data['SPEFit2_TWHVFitParams_logl'])\n",
    "    Data['NEarlyNCh'] = Data['spMPE_nearlyE'] / Data['spMPE_ndirE']\n",
    "    Data['logE'] = np.log10(Data['logE'])\n",
    "    \n",
    "    return Data"
   ]
  },
  {
   "cell_type": "code",
   "execution_count": 13,
   "metadata": {},
   "outputs": [],
   "source": [
    "Data_train = complete_data(Data_train, Data_train_file, Data_train_cut_indices)\n",
    "Data_test = complete_data(Data_test, Data_test_file, Data_test_cut_indices)"
   ]
  },
  {
   "cell_type": "code",
   "execution_count": 14,
   "metadata": {},
   "outputs": [
    {
     "name": "stdout",
     "output_type": "stream",
     "text": [
      "23.808155883962172\n"
     ]
    }
   ],
   "source": [
    "MC = get_variables(MC_file, Variables,MC_cut_indices)\n",
    "\n",
    "MC['mc_azimuth'] = MC_file.root.MCMostEnergeticTrack.cols.azimuth[:][MC_cut_indices]\n",
    "MC['mc_zenith'] = MC_file.root.MCMostEnergeticTrack.cols.zenith[:][MC_cut_indices]\n",
    "MC['time'] = MC_file.root.I3EventHeader.cols.time_start_mjd[:][MC_cut_indices]\n",
    "MC['trueAzi'] = MC_file.root.I3MCWeightDict.cols.PrimaryNeutrinoAzimuth[:][MC_cut_indices]\n",
    "MC['trueZen'] = MC_file.root.I3MCWeightDict.cols.PrimaryNeutrinoZenith[:][MC_cut_indices]\n",
    "MC['trueRa'], MC['trueDec'] = astro.dir_to_equa(MC['trueZen'], MC['trueAzi'], MC['time'])\n",
    "sim_spMPE_parabo_err1 = MC_file.root.MPEFitParaboloidFitParams.cols.err1[:][MC_cut_indices]\n",
    "sim_spMPE_parabo_err2 = MC_file.root.MPEFitParaboloidFitParams.cols.err2[:][MC_cut_indices]\n",
    "MC['spMPE_parabo'] = np.sqrt((sim_spMPE_parabo_err1**2+sim_spMPE_parabo_err2**2)/2)\n",
    "MC['cog_r2'] = (MC_file.root.HitStatisticsValues.cols.cog_x[:][MC_cut_indices])**2 + (MC_file.root.HitStatisticsValues.cols.cog_y[:][MC_cut_indices])**2\n",
    "MC['space_angle']=delta_angle(MC['mc_zenith'],MC['mc_azimuth'],MC['spMPE_zenith'],MC['spMPE_azimuth'])\n",
    "\n",
    "MC['LineFit_delta_angle'] = delta_angle(MC['spMPE_zenith'],MC['spMPE_azimuth'],MC['LineFit_TWHV_zen'],\n",
    "                                        MC['LineFit_TWHV_azi'])\n",
    "\n",
    "MC['MPEHighNoise_delta_angle'] = delta_angle(MC['MPEFitHighNoise_zen'],MC['MPEFitHighNoise_azi'],\n",
    "                                             MC['MPEFit_TWHV_zen'],MC['MPEFit_TWHV_azi'])\n",
    "\n",
    "MC['SplitMinZenith'] = SplitMinZenithFunc(MC['LineFit2GeoSplit1_zen'],MC['LineFit2GeoSplit2_zen'],\n",
    "                                           MC['LineFit2TimeSplit1_zen'],MC['LineFit2TimeSplit2_zen'])\n",
    "MC['BayesLLHRatio'] = BayesianFunc(MC['SPEFit2BayesianFitParams_logl'], MC['SPEFit2_TWHVFitParams_logl'])\n",
    "\n",
    "MC['ow'] = MC_file.root.I3MCWeightDict.cols.OneWeight[:][MC_cut_indices]\n",
    "MC['trueE'] = MC_file.root.I3MCWeightDict.cols.PrimaryNeutrinoEnergy[:][MC_cut_indices]\n",
    "MC['NEarlyNCh'] = MC['spMPE_nearlyE'] / MC['spMPE_ndirE']\n",
    "\n",
    "MC['logE'] = np.log10(MC['logE'])\n",
    "\n",
    "nfiles_sim = 3000\n",
    "test_hdf=tables.open_file('/data/user/xk35/BDT/hdf_mc_southern_sky/0/Level3_IC86.2016_NuMu.021002.001999.hdf')\n",
    "processed_events = test_hdf.root.I3MCWeightDict.cols.NEvents[:][0]\n",
    "\n",
    "\n",
    "MC['ow'] = MC['ow']/(nfiles_sim*processed_events)\n",
    "\n",
    "\n",
    "LT_day = 0\n",
    "for run in np.unique(Data_train['run']):\n",
    "    mask = (Data_train['run'] == run)\n",
    "    min_time = np.min(Data_train[mask]['time'])\n",
    "    max_time = np.max(Data_train[mask]['time'])\n",
    "    run_time = max_time - min_time\n",
    "    \n",
    "    LT_day += run_time\n",
    "\n",
    "LT = LT_day*86400\n",
    "\n",
    "print(LT_day)\n",
    "\n",
    "fluxNorm = 1.0e-18\n",
    "MC['weights'] = fluxNorm * MC['ow'] * (MC['trueE']/1.0e5)**(-gamma) * LT\n",
    "\n",
    "         \n",
    "         "
   ]
  },
  {
   "cell_type": "code",
   "execution_count": 25,
   "metadata": {},
   "outputs": [],
   "source": [
    "#np.save('post_precut_datasets/MC_all_aky.npy',MC)\n",
    "#np.save('post_precut_datasets/Data_test_all_aky.npy',Data_test)\n",
    "#np.save('post_precut_datasets/Data_train_all_sky.npy',Data_train)"
   ]
  },
  {
   "cell_type": "raw",
   "metadata": {},
   "source": [
    "mask_gc =((MC['spMPE_zenith']-np.radians(90.))>GC_dec-np.radians(10)) & ((MC['spMPE_zenith']-np.radians(90.))<GC_dec+np.radians(10))\n",
    "np.save('/data/user/xk35/BDT_corrected/post_precut_datasets/MC_GC.npy', MC[mask_gc])"
   ]
  },
  {
   "cell_type": "raw",
   "metadata": {},
   "source": [
    "mask_gc_d = ((Data_train['spMPE_zenith']-np.radians(90.))>GC_dec-np.radians(10)) & ((Data_train['spMPE_zenith']-np.radians(90.))<GC_dec+np.radians(10))\n",
    "np.save('/data/user/xk35/BDT_corrected/post_precut_datasets/Data_train_GC.npy', Data_train[mask_gc_d])"
   ]
  },
  {
   "cell_type": "raw",
   "metadata": {},
   "source": [
    "mask_sk_d = ((Data_test['spMPE_zenith']-np.radians(90.))>GC_dec-np.radians(10)) & ((Data_test['spMPE_zenith']-np.radians(90.))<GC_dec+np.radians(10))\n",
    "\n",
    "np.save('/data/user/xk35/BDT_corrected/post_precut_datasets/Data_test_GC.npy', Data_test[mask_sk_d])"
   ]
  },
  {
   "cell_type": "code",
   "execution_count": null,
   "metadata": {},
   "outputs": [],
   "source": []
  }
 ],
 "metadata": {
  "kernelspec": {
   "display_name": "Python 3",
   "language": "python",
   "name": "python3"
  },
  "language_info": {
   "codemirror_mode": {
    "name": "ipython",
    "version": 3
   },
   "file_extension": ".py",
   "mimetype": "text/x-python",
   "name": "python",
   "nbconvert_exporter": "python",
   "pygments_lexer": "ipython3",
   "version": "3.7.5"
  }
 },
 "nbformat": 4,
 "nbformat_minor": 2
}
